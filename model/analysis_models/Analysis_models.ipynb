{
 "cells": [
  {
   "cell_type": "markdown",
   "id": "103160c2-6252-481b-9d38-35085e72c5b6",
   "metadata": {},
   "source": [
    "# Тетрадка для анализа моделей предсказания и выбора лучшей модели для дальнейшего использования"
   ]
  },
  {
   "cell_type": "markdown",
   "id": "e95496cc-3c34-4c61-a9b1-13313d34232d",
   "metadata": {},
   "source": [
    "## Модели, которые будут тестироваться: \n",
    "* [LSTM](#LSTM)\n",
    "* [GRU](#GRU)\n",
    "* [MA](#MA)\n",
    "* [LR](#LR)\n",
    "* [K_near](#K_near)\n",
    "* [ARIMA](#ARIMA)\n",
    "* [Prophet](#Prophet)"
   ]
  },
  {
   "cell_type": "markdown",
   "id": "fe39b3c8-4f42-4691-8145-6931104166bf",
   "metadata": {},
   "source": [
    "## Импорт всех библиотек и модулей"
   ]
  },
  {
   "cell_type": "code",
   "execution_count": null,
   "id": "d60e37b6-3b9f-4d61-ba76-af411cbd7e00",
   "metadata": {},
   "outputs": [],
   "source": [
    "#!pip install apimoex\n",
    "#!pip install keras\n",
    "#!pip install tensorflow"
   ]
  },
  {
   "cell_type": "code",
   "execution_count": null,
   "id": "1133860f-f9d7-4ff3-bb83-021c8200ef8d",
   "metadata": {},
   "outputs": [],
   "source": [
    "import pandas as pd\n",
    "import numpy as np\n",
    "import matplotlib.pyplot as plt\n",
    "import apimoex\n",
    "from datetime import datetime\n",
    "from keras.models import Sequential\n",
    "from keras.layers import Dense, LSTM, Dropout, GRU\n",
    "from keras.layers import *\n",
    "from sklearn.preprocessing import MinMaxScaler\n",
    "from sklearn.metrics import mean_squared_error, mean_absolute_error\n",
    "from sklearn.model_selection import train_test_split\n",
    "from keras.callbacks import EarlyStopping"
   ]
  },
  {
   "cell_type": "markdown",
   "id": "8dde1e16-7421-4d93-b359-e11a91e06121",
   "metadata": {},
   "source": [
    "#### Токены"
   ]
  },
  {
   "cell_type": "code",
   "execution_count": null,
   "id": "4b852abf-44fe-444f-81c0-df90f512149e",
   "metadata": {},
   "outputs": [],
   "source": [
    "TOKEN_STOCKS = ['SBER', 'YNDX','ROSN', 'PIKK','NVTK', 'MTLR', 'AVAZ']"
   ]
  },
  {
   "cell_type": "code",
   "execution_count": null,
   "id": "f12f6f4f-cb96-4587-bd71-a93b0e5c2abe",
   "metadata": {},
   "outputs": [],
   "source": [
    "TEST_TOKEN = 'SBER'"
   ]
  },
  {
   "cell_type": "markdown",
   "id": "fe0ce109-1a87-4f44-acae-8809e6804064",
   "metadata": {},
   "source": [
    "## Получение данных по токену акции"
   ]
  },
  {
   "cell_type": "code",
   "execution_count": null,
   "id": "1bd93068-f292-4e28-9757-01e13f9d64ed",
   "metadata": {},
   "outputs": [],
   "source": [
    "with requests.Session() as session:\n",
    "    data = apimoex.get_board_candles(session=session, security=TEST_TOKEN)\n",
    "    sber = pd.DataFrame(data)\n",
    "    sber.info()"
   ]
  },
  {
   "cell_type": "code",
   "execution_count": null,
   "id": "12419cad-2f26-4d8c-99d6-7d963747de02",
   "metadata": {},
   "outputs": [],
   "source": [
    "sber"
   ]
  },
  {
   "cell_type": "markdown",
   "id": "2063bfe6-6033-4192-a055-6a0c430b05a5",
   "metadata": {},
   "source": [
    "## Предобработка данных"
   ]
  },
  {
   "cell_type": "code",
   "execution_count": null,
   "id": "5084fa15-fc65-4dd3-8033-3c0b8b471b43",
   "metadata": {},
   "outputs": [],
   "source": [
    "sber.shape"
   ]
  },
  {
   "cell_type": "code",
   "execution_count": null,
   "id": "ec74890f-6f12-4ea8-93cc-898a0b6e17b2",
   "metadata": {},
   "outputs": [],
   "source": [
    "sber['Price'] = sber['close'].astype(float)\n",
    "\n",
    "plt.figure(figsize=(20,7))\n",
    "plt.plot(sber['begin'].values, sber['Price'].values, label = f'{TEST_TOKEN} Stock Price', color = 'red')\n",
    "plt.xticks(np.arange(100,df.shape[0],200))\n",
    "plt.xlabel('Date')\n",
    "plt.ylabel('Price ($)')\n",
    "plt.legend()\n",
    "plt.show()"
   ]
  },
  {
   "cell_type": "code",
   "execution_count": null,
   "id": "00366f70-7f42-4ce7-9297-e074ebe084dc",
   "metadata": {},
   "outputs": [],
   "source": [
    "num_shape = 4050\n",
    "\n",
    "train = sber.iloc[:num_shape, 1:2].values\n",
    "test = sber.iloc[num_shape:, 1:2].values"
   ]
  },
  {
   "cell_type": "code",
   "execution_count": null,
   "id": "37ac7017-bbab-4f52-8d62-f7713b8f548b",
   "metadata": {},
   "outputs": [],
   "source": [
    "sc = MinMaxScaler(feature_range = (0, 1))\n",
    "train_scaled = sc.fit_transform(train)"
   ]
  },
  {
   "cell_type": "markdown",
   "id": "b80d1a94-eeb6-4f43-8387-434db7982683",
   "metadata": {},
   "source": [
    "## LSTM <a class=\"anchor\" id=\"LSTM\"></a>"
   ]
  }
 ],
 "metadata": {
  "kernelspec": {
   "display_name": "Python 3 (ipykernel)",
   "language": "python",
   "name": "python3"
  },
  "language_info": {
   "codemirror_mode": {
    "name": "ipython",
    "version": 3
   },
   "file_extension": ".py",
   "mimetype": "text/x-python",
   "name": "python",
   "nbconvert_exporter": "python",
   "pygments_lexer": "ipython3",
   "version": "3.9.13"
  }
 },
 "nbformat": 4,
 "nbformat_minor": 5
}
